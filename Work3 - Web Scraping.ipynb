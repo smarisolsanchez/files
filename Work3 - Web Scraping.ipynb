{
 "cells": [
  {
   "cell_type": "code",
   "execution_count": null,
   "metadata": {
    "id": "cABZfMicgfFf"
   },
   "outputs": [],
   "source": [
    "import numpy as np\n",
    "import pandas as pd\n",
    "from b import BeautifulSoup\n",
    "import requests\n",
    "from b import SoupStrainer\n",
    "import matplotlib.pyplot as plt"
   ]
  },
  {
   "cell_type": "code",
   "execution_count": null,
   "metadata": {
    "id": "_hz45OrNgfFi"
   },
   "outputs": [],
   "source": [
    "%matplotlib inline"
   ]
  },
  {
   "cell_type": "markdown",
   "metadata": {
    "id": "TUWovF9jgfFl"
   },
   "source": [
    "## Q1 (stock prices)"
   ]
  },
  {
   "cell_type": "markdown",
   "metadata": {
    "id": "GVVUUhvngfFl"
   },
   "source": [
    "URL https://markets.businessinsider.com/stocks/goog-stock"
   ]
  },
  {
   "cell_type": "code",
   "execution_count": 69,
   "metadata": {
    "executionInfo": {
     "elapsed": 333,
     "status": "ok",
     "timestamp": 1649123240940,
     "user": {
      "displayName": "Marisol Sanchez",
      "userId": "17744325379928768400"
     },
     "user_tz": 240
    },
    "id": "JPoHKsnBhkHT"
   },
   "outputs": [],
   "source": [
    "r_stock = requests.get(\"https://markets.businessinsider.com/stocks/goog-stock\")"
   ]
  },
  {
   "cell_type": "code",
   "execution_count": 70,
   "metadata": {
    "colab": {
     "base_uri": "https://localhost:8080/"
    },
    "executionInfo": {
     "elapsed": 125,
     "status": "ok",
     "timestamp": 1649123241452,
     "user": {
      "displayName": "Marisol Sanchez",
      "userId": "17744325379928768400"
     },
     "user_tz": 240
    },
    "id": "J2Rgr15nRjPE",
    "outputId": "0406ebfc-e061-4ecc-e8f2-071e3d66f71c"
   },
   "outputs": [
    {
     "data": {
      "text/plain": [
       "<Response [200]>"
      ]
     },
     "execution_count": 70,
     "metadata": {},
     "output_type": "execute_result"
    }
   ],
   "source": [
    "r_stock"
   ]
  },
  {
   "cell_type": "code",
   "execution_count": 71,
   "metadata": {
    "executionInfo": {
     "elapsed": 325,
     "status": "ok",
     "timestamp": 1649123242451,
     "user": {
      "displayName": "Marisol Sanchez",
      "userId": "17744325379928768400"
     },
     "user_tz": 240
    },
    "id": "NKgWNLVRRkaI"
   },
   "outputs": [],
   "source": [
    "soup = BeautifulSoup(r_stock.text, \"html.parser\")"
   ]
  },
  {
   "cell_type": "code",
   "execution_count": 80,
   "metadata": {
    "colab": {
     "base_uri": "https://localhost:8080/"
    },
    "executionInfo": {
     "elapsed": 166,
     "status": "ok",
     "timestamp": 1649123384083,
     "user": {
      "displayName": "Marisol Sanchez",
      "userId": "17744325379928768400"
     },
     "user_tz": 240
    },
    "id": "nPpgmWezSyvp",
    "outputId": "6ab450c3-83f6-4b65-efd5-13b01c3b0b1a"
   },
   "outputs": [
    {
     "data": {
      "text/plain": [
       "<span class=\"price-section__current-value\">2,872.85</span>"
      ]
     },
     "execution_count": 80,
     "metadata": {},
     "output_type": "execute_result"
    }
   ],
   "source": [
    "price_row = soup.select(\"span.price-section__current-value\")[0]\n",
    "price_row"
   ]
  },
  {
   "cell_type": "code",
   "execution_count": 81,
   "metadata": {
    "colab": {
     "base_uri": "https://localhost:8080/",
     "height": 37
    },
    "executionInfo": {
     "elapsed": 137,
     "status": "ok",
     "timestamp": 1649123386587,
     "user": {
      "displayName": "Marisol Sanchez",
      "userId": "17744325379928768400"
     },
     "user_tz": 240
    },
    "id": "l1y6eGFwfVWp",
    "outputId": "e5a56e65-bb8c-4a58-9910-58c9b2261380"
   },
   "outputs": [
    {
     "data": {
      "application/vnd.google.colaboratory.intrinsic+json": {
       "type": "string"
      },
      "text/plain": [
       "'2,872.85'"
      ]
     },
     "execution_count": 81,
     "metadata": {},
     "output_type": "execute_result"
    }
   ],
   "source": [
    "price = price_row.get_text()\n",
    "price"
   ]
  },
  {
   "cell_type": "markdown",
   "metadata": {
    "id": "sZo_u4zCgfFt"
   },
   "source": [
    "## Q2 (weather data)"
   ]
  },
  {
   "cell_type": "markdown",
   "metadata": {
    "id": "ewnrJzmxgfFt"
   },
   "source": [
    "Using https://www.timeanddate.com/weather/usa/philadelphia/ext\n",
    "\n",
    "getting the \"feels like\" temperatures for Philadelphia for the next 14 days"
   ]
  },
  {
   "cell_type": "code",
   "execution_count": 95,
   "metadata": {
    "executionInfo": {
     "elapsed": 161,
     "status": "ok",
     "timestamp": 1649123873459,
     "user": {
      "displayName": "Marisol Sanchez",
      "userId": "17744325379928768400"
     },
     "user_tz": 240
    },
    "id": "e_x8rmsnUGca"
   },
   "outputs": [],
   "source": [
    "r_weather = requests.get(\"https://www.timeanddate.com/weather/usa/philadelphia/ext\")"
   ]
  },
  {
   "cell_type": "code",
   "execution_count": 96,
   "metadata": {
    "colab": {
     "base_uri": "https://localhost:8080/"
    },
    "executionInfo": {
     "elapsed": 147,
     "status": "ok",
     "timestamp": 1649123874223,
     "user": {
      "displayName": "Marisol Sanchez",
      "userId": "17744325379928768400"
     },
     "user_tz": 240
    },
    "id": "u5crVV8SUKYz",
    "outputId": "1727e2d3-9ad7-4ef0-912e-509760e3d941"
   },
   "outputs": [
    {
     "data": {
      "text/plain": [
       "<Response [200]>"
      ]
     },
     "execution_count": 96,
     "metadata": {},
     "output_type": "execute_result"
    }
   ],
   "source": [
    "r_weather"
   ]
  },
  {
   "cell_type": "code",
   "execution_count": 97,
   "metadata": {
    "executionInfo": {
     "elapsed": 132,
     "status": "ok",
     "timestamp": 1649123875115,
     "user": {
      "displayName": "Marisol Sanchez",
      "userId": "17744325379928768400"
     },
     "user_tz": 240
    },
    "id": "xD9xhR0XUNLl"
   },
   "outputs": [],
   "source": [
    "soup_weather = BeautifulSoup(r_weather.text, \"html.parser\")\n",
    "#soup_weather"
   ]
  },
  {
   "cell_type": "code",
   "execution_count": 98,
   "metadata": {
    "executionInfo": {
     "elapsed": 196,
     "status": "ok",
     "timestamp": 1649123875917,
     "user": {
      "displayName": "Marisol Sanchez",
      "userId": "17744325379928768400"
     },
     "user_tz": 240
    },
    "id": "QQOlTHG5H-RG"
   },
   "outputs": [],
   "source": [
    "days = np.arange(1,15)"
   ]
  },
  {
   "cell_type": "code",
   "execution_count": 99,
   "metadata": {
    "executionInfo": {
     "elapsed": 219,
     "status": "ok",
     "timestamp": 1649123876698,
     "user": {
      "displayName": "Marisol Sanchez",
      "userId": "17744325379928768400"
     },
     "user_tz": 240
    },
    "id": "5I7iPd_pzOjL"
   },
   "outputs": [],
   "source": [
    "#scrape temps\n",
    "temps = []\n",
    "temp_weather = soup_weather.find_all(\"td\", class_ = 'sep')[3:45:3]\n",
    "for temp in temp_weather:\n",
    "  temps.append(int(temp.text[0:2]))\n",
    "\n",
    "#convert if celsius\n",
    "if str(temp_weather[0]).find(\"C\") > -1:\n",
    "  temps = (np.array(temps) * 1.8) + 32"
   ]
  },
  {
   "cell_type": "code",
   "execution_count": 100,
   "metadata": {
    "executionInfo": {
     "elapsed": 158,
     "status": "ok",
     "timestamp": 1649123877657,
     "user": {
      "displayName": "Marisol Sanchez",
      "userId": "17744325379928768400"
     },
     "user_tz": 240
    },
    "id": "dZUc-hS-idRK"
   },
   "outputs": [],
   "source": [
    "weather_df = pd.DataFrame({\"Time\" : days, \"Feels like Temperature\" : temps})"
   ]
  },
  {
   "cell_type": "code",
   "execution_count": 101,
   "metadata": {
    "colab": {
     "base_uri": "https://localhost:8080/",
     "height": 483
    },
    "executionInfo": {
     "elapsed": 169,
     "status": "ok",
     "timestamp": 1649123878427,
     "user": {
      "displayName": "Marisol Sanchez",
      "userId": "17744325379928768400"
     },
     "user_tz": 240
    },
    "id": "6kr7I8Y8imVv",
    "outputId": "2fd1e843-7611-46e8-e27e-ad7e8b7ceb85"
   },
   "outputs": [
    {
     "data": {
      "text/html": [
       "\n",
       "  <div id=\"df-a9088594-4bbc-4e05-a46f-6124369861d7\">\n",
       "    <div class=\"colab-df-container\">\n",
       "      <div>\n",
       "<style scoped>\n",
       "    .dataframe tbody tr th:only-of-type {\n",
       "        vertical-align: middle;\n",
       "    }\n",
       "\n",
       "    .dataframe tbody tr th {\n",
       "        vertical-align: top;\n",
       "    }\n",
       "\n",
       "    .dataframe thead th {\n",
       "        text-align: right;\n",
       "    }\n",
       "</style>\n",
       "<table border=\"1\" class=\"dataframe\">\n",
       "  <thead>\n",
       "    <tr style=\"text-align: right;\">\n",
       "      <th></th>\n",
       "      <th>Time</th>\n",
       "      <th>Feels like Temperature</th>\n",
       "    </tr>\n",
       "  </thead>\n",
       "  <tbody>\n",
       "    <tr>\n",
       "      <th>0</th>\n",
       "      <td>1</td>\n",
       "      <td>52</td>\n",
       "    </tr>\n",
       "    <tr>\n",
       "      <th>1</th>\n",
       "      <td>2</td>\n",
       "      <td>55</td>\n",
       "    </tr>\n",
       "    <tr>\n",
       "      <th>2</th>\n",
       "      <td>3</td>\n",
       "      <td>52</td>\n",
       "    </tr>\n",
       "    <tr>\n",
       "      <th>3</th>\n",
       "      <td>4</td>\n",
       "      <td>57</td>\n",
       "    </tr>\n",
       "    <tr>\n",
       "      <th>4</th>\n",
       "      <td>5</td>\n",
       "      <td>49</td>\n",
       "    </tr>\n",
       "    <tr>\n",
       "      <th>5</th>\n",
       "      <td>6</td>\n",
       "      <td>48</td>\n",
       "    </tr>\n",
       "    <tr>\n",
       "      <th>6</th>\n",
       "      <td>7</td>\n",
       "      <td>65</td>\n",
       "    </tr>\n",
       "    <tr>\n",
       "      <th>7</th>\n",
       "      <td>8</td>\n",
       "      <td>66</td>\n",
       "    </tr>\n",
       "    <tr>\n",
       "      <th>8</th>\n",
       "      <td>9</td>\n",
       "      <td>59</td>\n",
       "    </tr>\n",
       "    <tr>\n",
       "      <th>9</th>\n",
       "      <td>10</td>\n",
       "      <td>61</td>\n",
       "    </tr>\n",
       "    <tr>\n",
       "      <th>10</th>\n",
       "      <td>11</td>\n",
       "      <td>62</td>\n",
       "    </tr>\n",
       "    <tr>\n",
       "      <th>11</th>\n",
       "      <td>12</td>\n",
       "      <td>63</td>\n",
       "    </tr>\n",
       "    <tr>\n",
       "      <th>12</th>\n",
       "      <td>13</td>\n",
       "      <td>64</td>\n",
       "    </tr>\n",
       "    <tr>\n",
       "      <th>13</th>\n",
       "      <td>14</td>\n",
       "      <td>49</td>\n",
       "    </tr>\n",
       "  </tbody>\n",
       "</table>\n",
       "</div>\n",
       "      <button class=\"colab-df-convert\" onclick=\"convertToInteractive('df-a9088594-4bbc-4e05-a46f-6124369861d7')\"\n",
       "              title=\"Convert this dataframe to an interactive table.\"\n",
       "              style=\"display:none;\">\n",
       "        \n",
       "  <svg xmlns=\"http://www.w3.org/2000/svg\" height=\"24px\"viewBox=\"0 0 24 24\"\n",
       "       width=\"24px\">\n",
       "    <path d=\"M0 0h24v24H0V0z\" fill=\"none\"/>\n",
       "    <path d=\"M18.56 5.44l.94 2.06.94-2.06 2.06-.94-2.06-.94-.94-2.06-.94 2.06-2.06.94zm-11 1L8.5 8.5l.94-2.06 2.06-.94-2.06-.94L8.5 2.5l-.94 2.06-2.06.94zm10 10l.94 2.06.94-2.06 2.06-.94-2.06-.94-.94-2.06-.94 2.06-2.06.94z\"/><path d=\"M17.41 7.96l-1.37-1.37c-.4-.4-.92-.59-1.43-.59-.52 0-1.04.2-1.43.59L10.3 9.45l-7.72 7.72c-.78.78-.78 2.05 0 2.83L4 21.41c.39.39.9.59 1.41.59.51 0 1.02-.2 1.41-.59l7.78-7.78 2.81-2.81c.8-.78.8-2.07 0-2.86zM5.41 20L4 18.59l7.72-7.72 1.47 1.35L5.41 20z\"/>\n",
       "  </svg>\n",
       "      </button>\n",
       "      \n",
       "  <style>\n",
       "    .colab-df-container {\n",
       "      display:flex;\n",
       "      flex-wrap:wrap;\n",
       "      gap: 12px;\n",
       "    }\n",
       "\n",
       "    .colab-df-convert {\n",
       "      background-color: #E8F0FE;\n",
       "      border: none;\n",
       "      border-radius: 50%;\n",
       "      cursor: pointer;\n",
       "      display: none;\n",
       "      fill: #1967D2;\n",
       "      height: 32px;\n",
       "      padding: 0 0 0 0;\n",
       "      width: 32px;\n",
       "    }\n",
       "\n",
       "    .colab-df-convert:hover {\n",
       "      background-color: #E2EBFA;\n",
       "      box-shadow: 0px 1px 2px rgba(60, 64, 67, 0.3), 0px 1px 3px 1px rgba(60, 64, 67, 0.15);\n",
       "      fill: #174EA6;\n",
       "    }\n",
       "\n",
       "    [theme=dark] .colab-df-convert {\n",
       "      background-color: #3B4455;\n",
       "      fill: #D2E3FC;\n",
       "    }\n",
       "\n",
       "    [theme=dark] .colab-df-convert:hover {\n",
       "      background-color: #434B5C;\n",
       "      box-shadow: 0px 1px 3px 1px rgba(0, 0, 0, 0.15);\n",
       "      filter: drop-shadow(0px 1px 2px rgba(0, 0, 0, 0.3));\n",
       "      fill: #FFFFFF;\n",
       "    }\n",
       "  </style>\n",
       "\n",
       "      <script>\n",
       "        const buttonEl =\n",
       "          document.querySelector('#df-a9088594-4bbc-4e05-a46f-6124369861d7 button.colab-df-convert');\n",
       "        buttonEl.style.display =\n",
       "          google.colab.kernel.accessAllowed ? 'block' : 'none';\n",
       "\n",
       "        async function convertToInteractive(key) {\n",
       "          const element = document.querySelector('#df-a9088594-4bbc-4e05-a46f-6124369861d7');\n",
       "          const dataTable =\n",
       "            await google.colab.kernel.invokeFunction('convertToInteractive',\n",
       "                                                     [key], {});\n",
       "          if (!dataTable) return;\n",
       "\n",
       "          const docLinkHtml = 'Like what you see? Visit the ' +\n",
       "            '<a target=\"_blank\" href=https://colab.research.google.com/notebooks/data_table.ipynb>data table notebook</a>'\n",
       "            + ' to learn more about interactive tables.';\n",
       "          element.innerHTML = '';\n",
       "          dataTable['output_type'] = 'display_data';\n",
       "          await google.colab.output.renderOutput(dataTable, element);\n",
       "          const docLink = document.createElement('div');\n",
       "          docLink.innerHTML = docLinkHtml;\n",
       "          element.appendChild(docLink);\n",
       "        }\n",
       "      </script>\n",
       "    </div>\n",
       "  </div>\n",
       "  "
      ],
      "text/plain": [
       "    Time  Feels like Temperature\n",
       "0      1                      52\n",
       "1      2                      55\n",
       "2      3                      52\n",
       "3      4                      57\n",
       "4      5                      49\n",
       "5      6                      48\n",
       "6      7                      65\n",
       "7      8                      66\n",
       "8      9                      59\n",
       "9     10                      61\n",
       "10    11                      62\n",
       "11    12                      63\n",
       "12    13                      64\n",
       "13    14                      49"
      ]
     },
     "execution_count": 101,
     "metadata": {},
     "output_type": "execute_result"
    }
   ],
   "source": [
    "weather_df "
   ]
  },
  {
   "cell_type": "code",
   "execution_count": 102,
   "metadata": {
    "colab": {
     "base_uri": "https://localhost:8080/",
     "height": 295
    },
    "executionInfo": {
     "elapsed": 385,
     "status": "ok",
     "timestamp": 1649123884502,
     "user": {
      "displayName": "Marisol Sanchez",
      "userId": "17744325379928768400"
     },
     "user_tz": 240
    },
    "id": "hi19_s2Tiph5",
    "outputId": "74bba6ea-58e2-45c4-fdab-5ae6ca32da15"
   },
   "outputs": [
    {
     "data": {
      "image/png": "[encoded data removed]",
      "text/plain": [
       "<Figure size 432x288 with 1 Axes>"
      ]
     },
     "metadata": {
      "needs_background": "light"
     },
     "output_type": "display_data"
    }
   ],
   "source": [
    "x = weather_df[\"Time\"]\n",
    "y = weather_df[\"Feels like Temperature\"]\n",
    "plt.yticks(np.arange(min(weather_df[\"Feels like Temperature\"]),max(weather_df[\"Feels like Temperature\"]) + 2,2))\n",
    "plt.xticks(np.arange(1,15,1))\n",
    "plt.plot(x,y);\n",
    "plt.xlabel(\"Number of days (1 being tomorrow)\")\n",
    "plt.ylabel(\"Temperature (in Fahrenheit)\")\n",
    "plt.title(\"Feels like Temperature next 14 days\");"
   ]
  },
  {
   "cell_type": "markdown",
   "metadata": {
    "id": "vxanGo_ggfFw"
   },
   "source": [
    "## Q3 (Wikipedia - Countries and their capitals)"
   ]
  },
  {
   "cell_type": "markdown",
   "metadata": {},
   "source": [
    "Getting the name of a capital by scraping wikipedia page."
   ]
  },
  {
   "cell_type": "code",
   "execution_count": 89,
   "metadata": {
    "executionInfo": {
     "elapsed": 137,
     "status": "ok",
     "timestamp": 1649123631939,
     "user": {
      "displayName": "Marisol Sanchez",
      "userId": "17744325379928768400"
     },
     "user_tz": 240
    },
    "id": "RnZ2L1RcoB6V"
   },
   "outputs": [],
   "source": [
    "def get_capital_from_wiki(country_name):\n",
    "  r_city = requests.get(\"https://en.wikipedia.org/wiki/\" + country_name)\n",
    "  soup_city = BeautifulSoup(r_city.text, \"html.parser\")\n",
    "  firstclass_capital = soup_city.find_all(\"td\", class_ = 'infobox-data')\n",
    "  capital_row = firstclass_capital[0]\n",
    "  return capital_row.find(\"a\").text"
   ]
  },
  {
   "cell_type": "markdown",
   "metadata": {
    "id": "0Vb9QGMSgfFz"
   },
   "source": [
    "Proof:"
   ]
  },
  {
   "cell_type": "code",
   "execution_count": 90,
   "metadata": {
    "colab": {
     "base_uri": "https://localhost:8080/",
     "height": 37
    },
    "executionInfo": {
     "elapsed": 492,
     "status": "ok",
     "timestamp": 1649123634451,
     "user": {
      "displayName": "Marisol Sanchez",
      "userId": "17744325379928768400"
     },
     "user_tz": 240
    },
    "id": "wY8GT3y0jFCN",
    "outputId": "a85430bb-28a3-4f57-d1f8-d693e231e7dc"
   },
   "outputs": [
    {
     "data": {
      "application/vnd.google.colaboratory.intrinsic+json": {
       "type": "string"
      },
      "text/plain": [
       "'Maseru'"
      ]
     },
     "execution_count": 90,
     "metadata": {},
     "output_type": "execute_result"
    }
   ],
   "source": [
    "get_capital_from_wiki(\"Lesotho\")"
   ]
  }
 ],
 "metadata": {
  "colab": {
   "collapsed_sections": [],
   "name": "203_HW8_smarisol.ipynb",
   "provenance": [
    {
     "file_id": "1hI72-sPWQXubHGJda6toxF4FXTkFzI5B",
     "timestamp": 1649085480345
    }
   ]
  },
  "kernelspec": {
   "display_name": "Python 3 (ipykernel)",
   "language": "python",
   "name": "python3"
  },
  "language_info": {
   "codemirror_mode": {
    "name": "ipython",
    "version": 3
   },
   "file_extension": ".py",
   "mimetype": "text/x-python",
   "name": "python",
   "nbconvert_exporter": "python",
   "pygments_lexer": "ipython3",
   "version": "3.9.7"
  }
 },
 "nbformat": 4,
 "nbformat_minor": 1
}
